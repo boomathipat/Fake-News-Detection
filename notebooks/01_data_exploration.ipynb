{
  "cells": [
    {
      "cell_type": "markdown",
      "metadata": {},
      "source": [
        "# Fake News Detection - Data Exploration\n",
        "\n",
        "This notebook explores the fake news dataset and provides insights into the data structure, distribution, and characteristics.\n"
      ]
    },
    {
      "cell_type": "code",
      "execution_count": null,
      "metadata": {},
      "outputs": [],
      "source": [
        "# Import necessary libraries\n",
        "import pandas as pd\n",
        "import numpy as np\n",
        "import matplotlib.pyplot as plt\n",
        "import seaborn as sns\n",
        "from wordcloud import WordCloud\n",
        "import warnings\n",
        "warnings.filterwarnings('ignore')\n",
        "\n",
        "# Set style\n",
        "plt.style.use('seaborn-v0_8')\n",
        "sns.set_palette(\"husl\")\n"
      ]
    },
    {
      "cell_type": "code",
      "execution_count": null,
      "metadata": {},
      "outputs": [],
      "source": [
        "# Import project modules\n",
        "import sys\n",
        "sys.path.append('../src')\n",
        "\n",
        "from data.loader import DataLoader\n",
        "from data.preprocess import TextPreprocessor\n",
        "from visualization.plots import DataVisualizer\n",
        "from utils.helpers import print_data_summary, calculate_text_statistics\n"
      ]
    }
  ],
  "metadata": {
    "language_info": {
      "name": "python"
    }
  },
  "nbformat": 4,
  "nbformat_minor": 2
}
